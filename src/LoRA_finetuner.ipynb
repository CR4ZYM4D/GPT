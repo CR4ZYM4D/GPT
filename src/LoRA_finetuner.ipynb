{
 "cells": [
  {
   "cell_type": "code",
   "execution_count": 1,
   "id": "90c89a8a",
   "metadata": {},
   "outputs": [
    {
     "name": "stdout",
     "output_type": "stream",
     "text": [
      "cpu\n",
      "(287113, 3)\n",
      "(13368, 3)\n",
      "(11490, 3)\n",
      "Missing keys: []\n",
      "Unexpected keys: []\n"
     ]
    }
   ],
   "source": [
    "# --LIBRARY IMPORTS--\n",
    "\n",
    "import os \n",
    "\n",
    "import pandas as pd\n",
    "import torch\n",
    "import torch.nn as nn\n",
    "from torch.utils.data import Dataset, DataLoader\n",
    "import torch.nn.utils.parametrize as parametrize\n",
    "\n",
    "from model_architecture import GPTModel\n",
    "import LoRA_parameterizer as lp\n",
    "\n",
    "# initializing dailymail dataset and device\n",
    "\n",
    "device = 'cuda' if torch.cuda.is_available() else 'cpu'\n",
    "train_df = pd.read_csv(os.path.join('../dataset/', 'dailymail/train.csv'))\n",
    "val_df = pd.read_csv(os.path.join('../dataset/', 'dailymail/validation.csv'))\n",
    "test_df = pd.read_csv(os.path.join('../dataset/', 'dailymail/test.csv'))\n",
    "\n",
    "print(device)\n",
    "print(train_df.shape)\n",
    "print(val_df.shape)\n",
    "print(test_df.shape)\n",
    "\n",
    "#initializing and loading model\n",
    "\n",
    "model = GPTModel()\n",
    "\n",
    "model_state = torch.load(os.path.join('../models/subset19/', 'mp_rank_00_model_states.pt'), map_location = device)\n",
    "\n",
    "missing, unexpected = model.load_state_dict(model_state['module'], strict = False)\n",
    "\n",
    "print(\"Missing keys:\", missing)\n",
    "print(\"Unexpected keys:\", unexpected)\n",
    "\n",
    "model = model.to(device)"
   ]
  },
  {
   "cell_type": "code",
   "execution_count": 2,
   "id": "1f5db8fe",
   "metadata": {},
   "outputs": [],
   "source": [
    "# defining dataset class to build dataset from dataframes\n",
    "\n",
    "class BuildDataSet(Dataset):\n",
    "\n",
    "    def __init__(self, df):\n",
    "        self.df = df\n",
    "\n",
    "    def __len__(self):\n",
    "        return len(self.df)\n",
    "\n",
    "    def __getitem__(self, idx):\n",
    "        \n",
    "        # get a single item\n",
    "        item = self.df.iloc[idx]\n",
    "\n",
    "        # return its text and highlight\n",
    "        return {\n",
    "            'text': item['text'],\n",
    "            'highlights': item['highlights']\n",
    "        }"
   ]
  },
  {
   "cell_type": "code",
   "execution_count": 3,
   "id": "60160fa0",
   "metadata": {},
   "outputs": [],
   "source": [
    "# creating  train, test, val dataloaders for dailymail\n",
    "\n",
    "train_dl = DataLoader(BuildDataSet(train_df), batch_size = 32, shuffle = True)\n",
    "\n",
    "val_dl = DataLoader(BuildDataSet(val_df), batch_size = 32, shuffle = True)\n",
    "\n",
    "test_dl = DataLoader(BuildDataSet(test_df), batch_size = 16, shuffle = True)"
   ]
  },
  {
   "cell_type": "code",
   "execution_count": 4,
   "id": "f8b0aadc",
   "metadata": {},
   "outputs": [
    {
     "name": "stdout",
     "output_type": "stream",
     "text": [
      "e, p, s, c :  50256 50258 50257 50259\n"
     ]
    }
   ],
   "source": [
    "optimizer = model.optimizer\n",
    "\n",
    "tokenizer = model.config.tokenizer\n",
    "\n",
    "eos_token = model.eos_token_idx\n",
    "\n",
    "pad_token = model.pad_token_idx\n",
    "\n",
    "sos_token = tokenizer.convert_tokens_to_ids('<|startoftext|>')\n",
    "\n",
    "# using unk token as context becuase I am an idiot and forgot to add a context token in the tokenizer\n",
    "\n",
    "context_token = tokenizer.convert_tokens_to_ids('<|unknown|>') \n",
    "\n",
    "print(\"e, p, s, c : \", eos_token, pad_token, sos_token, context_token)"
   ]
  },
  {
   "cell_type": "code",
   "execution_count": null,
   "id": "f3e93b0b",
   "metadata": {},
   "outputs": [],
   "source": [
    "# copy the original weights and biases into a dictionary to compare post SFT and make sure they don't get lost along the way\n",
    "\n",
    "original_weights = {}\n",
    "\n",
    "for name, param in model.named_modules():\n",
    "\n",
    "    if(hasattr(param, \"weight\")):\n",
    "\n",
    "        original_weights[name] = param.weight.clone().detach()\n",
    "        print(\"copied layer: \", name,\"of size: \", param.weight.shape)\n",
    "\n",
    "        print(original_weights[name])"
   ]
  },
  {
   "cell_type": "code",
   "execution_count": null,
   "id": "fcb851e9",
   "metadata": {},
   "outputs": [],
   "source": [
    "# parametrizing the model with LoRA\n",
    "\n",
    "model = lp.apply_lora_to_model(model, device, rank = 1, alpha = 1)\n",
    "\n",
    "lora_elements=0\n",
    "\n",
    "for name, param in model.named_modules():\n",
    "\n",
    "    if parametrize.is_parametrized(param, \"weight\"):\n",
    "        lora_elements += param.parametrizations.weight[0].lora_A.nelement() +param.parametrizations.weight[0].lora_B.nelement()\n",
    "print(f\"number of lora parameters = {lora_elements}\")"
   ]
  },
  {
   "cell_type": "code",
   "execution_count": null,
   "id": "a42e2915",
   "metadata": {},
   "outputs": [],
   "source": [
    "# freezing the non-LoRA layers\n",
    "\n",
    "for name, param in model.named_parameters():\n",
    "\n",
    "    # freezing all non-LoRA and LoRA layers and matrices\n",
    "\n",
    "    param.requires_grad = False\n",
    "\n",
    "    print(f\"Frozen layer {name}\")\n",
    "\n",
    "# check if LoRA is not in name\n",
    "\n",
    "for name, param in model.named_modules():\n",
    "\n",
    "    if hasattr(param, 'parametrizations'): #and hasattr(param.parametrizations, \"weight\"):\n",
    "\n",
    "        print(f\"un-freezing layer {name}\")\n",
    "\n",
    "        LoRA_weights = param.parametrizations[\"weight\"][0]\n",
    "\n",
    "        if hasattr(LoRA_weights, 'lora_A') and hasattr(LoRA_weights, \"lora_B\"):\n",
    "\n",
    "            print(f\"unfreezing LoRA layer of {param}\")\n",
    "\n",
    "            LoRA_weights.lora_A.requires_grad = True\n",
    "            LoRA_weights.lora_B.requires_grad = True                    \n"
   ]
  },
  {
   "cell_type": "code",
   "execution_count": null,
   "id": "43c94eb8",
   "metadata": {},
   "outputs": [],
   "source": [
    "# checking if the parameters are correctly frozen\n",
    "\n",
    "trainable = []\n",
    "\n",
    "frozen = []\n",
    "\n",
    "for name, param in model.named_parameters():\n",
    "\n",
    "    if param.requires_grad:\n",
    "        trainable.append(name)\n",
    "        print(f\"trainable parameters include {name}\")\n",
    "\n",
    "    else:\n",
    "\n",
    "        frozen.append(name)\n",
    "\n",
    "for layer in frozen:\n",
    "\n",
    "    print(f\"frozen includes {layer}\")"
   ]
  }
 ],
 "metadata": {
  "kernelspec": {
   "display_name": "torch",
   "language": "python",
   "name": "python3"
  },
  "language_info": {
   "codemirror_mode": {
    "name": "ipython",
    "version": 3
   },
   "file_extension": ".py",
   "mimetype": "text/x-python",
   "name": "python",
   "nbconvert_exporter": "python",
   "pygments_lexer": "ipython3",
   "version": "3.11.0"
  }
 },
 "nbformat": 4,
 "nbformat_minor": 5
}
