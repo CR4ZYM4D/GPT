{
 "cells": [
  {
   "cell_type": "code",
   "execution_count": null,
   "id": "90c89a8a",
   "metadata": {},
   "outputs": [],
   "source": [
    "## --LIBRARY IMPORTS--\n",
    "\n",
    "import os \n",
    "\n",
    "import pandas as pd\n",
    "import torch\n",
    "import torch.nn as nn\n",
    "from torch.utils.data import Dataset, DataLoader\n",
    "\n",
    "from model_architecture import GPTModel\n",
    "\n",
    "\n",
    "# initializing dailymail dataset and device\n",
    "\n",
    "device = 'cuda' if torch.cuda.is_available() else 'cpu'\n",
    "train_df = pd.read_csv(os.path.join('../dataset/', 'dailymail/train.csv'))\n",
    "val_df = pd.read_csv(os.path.join('../dataset/', 'dailymail/validation.csv'))\n",
    "test_df = pd.read_csv(os.path.join('../dataset/', 'dailymail/test.csv'))\n",
    "\n",
    "print(device)\n",
    "print(train_df.shape)\n",
    "print(val_df.shape)\n",
    "print(test_df.shape)\n",
    "\n",
    "\n",
    "#initializing and loading model\n",
    "\n",
    "model = GPTModel()\n",
    "\n",
    "model_state = torch.load(os.path.join('../models/subset19/', 'mp_rank_00_model_states.pt'), map_location = device)\n",
    "\n",
    "missing, unexpected = model.load_state_dict(model_state['module'], strict = False)\n",
    "\n",
    "print(\"Missing keys:\", missing)\n",
    "print(\"Unexpected keys:\", unexpected)\n",
    "\n",
    "model = model.to(device)"
   ]
  },
  {
   "cell_type": "code",
   "execution_count": 2,
   "id": "1f5db8fe",
   "metadata": {},
   "outputs": [],
   "source": [
    "class DailyMailSet(Dataset):\n",
    "\n",
    "    def __init__(self, df):\n",
    "        self.df = df\n",
    "\n",
    "    def __len__(self):\n",
    "        return len(self.df)\n",
    "\n",
    "    def __getitem__(self, idx):\n",
    "        \n",
    "        # get a single item\n",
    "        item = self.df.iloc[idx]\n",
    "\n",
    "        # return its text and highlight\n",
    "        return {\n",
    "            'text': item['text'],\n",
    "            'highlights': item['highlights']\n",
    "        }"
   ]
  },
  {
   "cell_type": "code",
   "execution_count": 3,
   "id": "60160fa0",
   "metadata": {},
   "outputs": [],
   "source": [
    "train_dl = DataLoader(DailyMailSet(train_df), batch_size = 32, shuffle = True)\n",
    "\n",
    "val_dl = DataLoader(DailyMailSet(val_df), batch_size = 32, shuffle = True)\n",
    "\n",
    "test_dl = DataLoader(DailyMailSet(test_df), batch_size = 16, shuffle = True)"
   ]
  },
  {
   "cell_type": "code",
   "execution_count": 4,
   "id": "f8b0aadc",
   "metadata": {},
   "outputs": [
    {
     "name": "stdout",
     "output_type": "stream",
     "text": [
      "e, p, s, c :  50256 50258 50257 50259\n"
     ]
    }
   ],
   "source": [
    "optimizer = model.optimizer\n",
    "\n",
    "tokenizer = model.config.tokenizer\n",
    "\n",
    "eos_token = model.eos_token_idx\n",
    "\n",
    "pad_token = model.pad_token_idx\n",
    "\n",
    "sos_token = tokenizer.convert_tokens_to_ids('<|startoftext|>')\n",
    "\n",
    "# using unk token as context becuase I am an idiot and forgot to add a context token in the tokenizer\n",
    "\n",
    "context_token = tokenizer.convert_tokens_to_ids('<|unknown|>') \n",
    "\n",
    "print(\"e, p, s, c : \", eos_token, pad_token, sos_token, context_token)"
   ]
  },
  {
   "cell_type": "code",
   "execution_count": null,
   "id": "f3e93b0b",
   "metadata": {},
   "outputs": [],
   "source": [
    "# copy the original weights and biases into a dictionary to compare post SFT and make sure they don't get lost along the way\n",
    "\n",
    "original_weights = {}\n",
    "\n",
    "for name, param in model.named_parameters():\n",
    "\n",
    "    original_weights[name] = param.clone().detach()\n",
    "    print(\"copied layer: \", name,\"of size: \", param.shape)\n"
   ]
  },
  {
   "cell_type": "code",
   "execution_count": null,
   "id": "503ce7af",
   "metadata": {},
   "outputs": [],
   "source": [
    "# create the class for LoRA parameterization of a general matrix like the vocab layer or the attention matrices\n",
    "\n",
    "class LoRA_Parameterization(nn.Module):\n",
    "\n",
    "    def __init__(self, in_features: int, out_features: int, rank: int = 1, alpha: int = 1, device: str = 'cpu'):\n",
    "        \n",
    "        super().__init__()\n",
    "\n",
    "        self.in_features = in_features\n",
    "        self.out_features = out_features\n",
    "        self.rank = rank\n",
    "        self.alpha = alpha\n",
    "        self.device = device\n",
    "\n",
    "        # LoRA matrices are of type BA times scale factor where B and A are the intrinsic rank matrices and scaling is a normal scalar to maintain variance\n",
    "        # dim(B) = [in_features x rank]\n",
    "        # dim(A) = [rank x out_features]\n",
    "        # scale factor = alpha / rank\n",
    "\n",
    "        self.scale = self.alpha/self.rank\n",
    "\n",
    "        self.lora_A = nn.Parameter(torch.zeros((self.rank, self.out_features)).to(self.device))\n",
    "\n",
    "        # initialize LoRA B matrix as all zeros so that delta_W is zero at the start of training\n",
    "        self.lora_B = nn.Parameter(torch.zeros((self.in_features, self.rank)).to(self.device))\n",
    "\n",
    "        # initialize LoRA A matrix as Gaussian distribution with avg = 0, std = 1\n",
    "        nn.init.normal_(self.lora_A, mean=0, std=1)\n",
    "\n",
    "        # intialize an extra enabled flag to turn LoRA on/off at demand\n",
    "        self.enabled = True\n",
    "\n",
    "    def forward(self, original_weights: torch.Tensor):\n",
    "\n",
    "        if self.enabled:\n",
    "\n",
    "            #return the LoRA matrices with added to the original weights for performing the forward calls\n",
    "            # adding a view call to the multiplied and scaled matrix for extra safety measure\n",
    "\n",
    "            return original_weights + (torch.matmul(self.lora_B, self.lora_A)*self.scale).view(original_weights.shape)\n",
    "        \n",
    "        else:\n",
    "\n",
    "            return original_weights\n",
    "        "
   ]
  }
 ],
 "metadata": {
  "kernelspec": {
   "display_name": "torch",
   "language": "python",
   "name": "python3"
  },
  "language_info": {
   "codemirror_mode": {
    "name": "ipython",
    "version": 3
   },
   "file_extension": ".py",
   "mimetype": "text/x-python",
   "name": "python",
   "nbconvert_exporter": "python",
   "pygments_lexer": "ipython3",
   "version": "3.11.2"
  }
 },
 "nbformat": 4,
 "nbformat_minor": 5
}
