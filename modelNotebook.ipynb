{
 "cells": [
  {
   "cell_type": "code",
   "execution_count": null,
   "id": "c565eb18",
   "metadata": {},
   "outputs": [
    {
     "name": "stdout",
     "output_type": "stream",
     "text": [
      "cuda\n"
     ]
    }
   ],
   "source": [
    "import torch\n",
    "import torch.nn\n",
    "import torch.nn.functional as F\n",
    "\n",
    "#using GPU if available\n",
    "\n",
    "device = 'cuda' if torch.cuda.is_available() else 'cpu'\n",
    "print(device)"
   ]
  },
  {
   "cell_type": "code",
   "execution_count": null,
   "id": "08394d7b",
   "metadata": {},
   "outputs": [],
   "source": [
    "# function to read a text file and return all characters present in it\n",
    "\n",
    "def readTextFile(path):\n",
    "\n",
    "    with open(path, 'r', encoding = 'UTF-8') as f:\n",
    "\n",
    "        text = f.read()\n",
    "\n",
    "    characters = sorted(set(text))\n",
    "\n",
    "    return text, characters\n"
   ]
  },
  {
   "cell_type": "code",
   "execution_count": null,
   "id": "510f0fb1",
   "metadata": {},
   "outputs": [],
   "source": [
    "text, characters = readTextFile('./src/wizardOfOz.txt')\n",
    "\n",
    "# lambda functions to encode and decode the characters of the text\n",
    "\n",
    "stringToNum = {ch: i for i, ch  in enumerate(characters)}\n",
    "\n",
    "numToString = {i: ch for i,ch in enumerate(characters)}\n",
    "\n",
    "encode = lambda s: [stringToNum[c] for c in s]\n",
    "\n",
    "decode = lambda s: [numToString[n] for n in s]\n",
    "\n",
    "# converting the text into a tensor\n",
    "\n",
    "data = torch.tensor(encode(text))"
   ]
  }
 ],
 "metadata": {
  "kernelspec": {
   "display_name": "gpu",
   "language": "python",
   "name": "gpt"
  },
  "language_info": {
   "codemirror_mode": {
    "name": "ipython",
    "version": 3
   },
   "file_extension": ".py",
   "mimetype": "text/x-python",
   "name": "python",
   "nbconvert_exporter": "python",
   "pygments_lexer": "ipython3",
   "version": "3.11.2"
  }
 },
 "nbformat": 4,
 "nbformat_minor": 5
}
